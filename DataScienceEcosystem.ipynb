{
 "cells": [
  {
   "cell_type": "markdown",
   "id": "c9150588-d6ef-473f-922a-11648ab514db",
   "metadata": {},
   "source": [
    "# Data Science Tools and Ecosystem"
   ]
  },
  {
   "cell_type": "markdown",
   "id": "794ca069-349b-4972-a186-50302bba8e5c",
   "metadata": {},
   "source": [
    "In this notebook, Data Science Tools and Ecosystem are summarized"
   ]
  },
  {
   "cell_type": "markdown",
   "id": "a436c7ab-3f1a-46a5-b907-74c847bc7d40",
   "metadata": {},
   "source": [
    "**Objectives:**\n",
    "+ Scala\n",
    "+ SQL\n",
    "+ Java\n",
    "+ R"
   ]
  },
  {
   "cell_type": "markdown",
   "id": "961f572a-e7bc-4d4d-907e-72aa32629691",
   "metadata": {},
   "source": [
    "Some of the popular languages that Data Scientists use are:\n",
    "1. Python\n",
    "2. SQL\n",
    "3. Scala\n"
   ]
  },
  {
   "cell_type": "markdown",
   "id": "6b8534dc-68e3-4f86-9b99-7138e2220007",
   "metadata": {},
   "source": [
    "Some of the commonly used libraries used by Data Scientists include:\n",
    "1. Numpy\n",
    "2. Pandas\n",
    "3. Matplotlib"
   ]
  },
  {
   "cell_type": "markdown",
   "id": "36cdb077-c390-4163-8160-20b47e1dfc5a",
   "metadata": {},
   "source": [
    "| Data Science Tools |\n",
    "|-----|\n",
    "| TensorFlow \n",
    "| Jupyter Notebook \n",
    "| RStudio "
   ]
  },
  {
   "cell_type": "markdown",
   "id": "70cfad7b-3f98-4e0b-a7f6-85236fcebb69",
   "metadata": {},
   "source": [
    "### Below are a few examples of evaluating arithmetic expressions in Python"
   ]
  },
  {
   "cell_type": "code",
   "execution_count": 17,
   "id": "1fa82454-e3f4-45ba-b013-974b49a45299",
   "metadata": {},
   "outputs": [
    {
     "data": {
      "text/plain": [
       "17"
      ]
     },
     "execution_count": 17,
     "metadata": {},
     "output_type": "execute_result"
    }
   ],
   "source": [
    "# This a simple arithmetic expression to mutiply then add integers\n",
    "\n",
    "(3*4)+5"
   ]
  },
  {
   "cell_type": "code",
   "execution_count": 19,
   "id": "ee8065e8-5f17-4510-88b7-5e62c8d884ad",
   "metadata": {},
   "outputs": [
    {
     "data": {
      "text/plain": [
       "3.3333333333333335"
      ]
     },
     "execution_count": 19,
     "metadata": {},
     "output_type": "execute_result"
    }
   ],
   "source": [
    "# This will convert 200 minutes to hours by diving by 60\n",
    "\n",
    "200/60"
   ]
  },
  {
   "cell_type": "markdown",
   "id": "6fcb20c0-a7eb-41e5-8aba-56aad6dcc179",
   "metadata": {},
   "source": [
    "Objectives:\n",
    "+ "
   ]
  },
  {
   "cell_type": "markdown",
   "id": "37d670e3-1206-4a17-a821-ca4e0596c26b",
   "metadata": {},
   "source": [
    "## Author\n",
    "\n",
    "Akolade James IBIJOLA"
   ]
  },
  {
   "cell_type": "code",
   "execution_count": null,
   "id": "a45f70bd-55a4-47a1-9293-d3e814c3942a",
   "metadata": {},
   "outputs": [],
   "source": []
  }
 ],
 "metadata": {
  "kernelspec": {
   "display_name": "Python [conda env:base] *",
   "language": "python",
   "name": "conda-base-py"
  },
  "language_info": {
   "codemirror_mode": {
    "name": "ipython",
    "version": 3
   },
   "file_extension": ".py",
   "mimetype": "text/x-python",
   "name": "python",
   "nbconvert_exporter": "python",
   "pygments_lexer": "ipython3",
   "version": "3.12.4"
  }
 },
 "nbformat": 4,
 "nbformat_minor": 5
}
